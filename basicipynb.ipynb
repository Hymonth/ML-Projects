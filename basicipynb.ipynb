{
  "nbformat": 4,
  "nbformat_minor": 0,
  "metadata": {
    "colab": {
      "name": "basicipynb",
      "provenance": [],
      "collapsed_sections": []
    },
    "kernelspec": {
      "name": "python3",
      "display_name": "Python 3"
    },
    "language_info": {
      "name": "python"
    }
  },
  "cells": [
    {
      "cell_type": "code",
      "execution_count": 2,
      "metadata": {
        "colab": {
          "base_uri": "https://localhost:8080/"
        },
        "id": "zvvzLDk4qGw0",
        "outputId": "fa714672-7535-4096-cb5f-c026549742ca"
      },
      "outputs": [
        {
          "output_type": "stream",
          "name": "stdout",
          "text": [
            "hem\n",
            "anth\n",
            "hemanth\n"
          ]
        }
      ],
      "source": [
        "a=input()\n",
        "b=input()\n",
        "c=a+b\n",
        "print(c)\n"
      ]
    },
    {
      "cell_type": "code",
      "source": [
        "a=int(input())\n",
        "b=int(input())\n",
        "c=a+b\n",
        "print(c)"
      ],
      "metadata": {
        "colab": {
          "base_uri": "https://localhost:8080/"
        },
        "id": "77iMwVHzthxm",
        "outputId": "4215f641-5d2e-4d6d-cac9-25b781f9bc4d"
      },
      "execution_count": 3,
      "outputs": [
        {
          "output_type": "stream",
          "name": "stdout",
          "text": [
            "2\n",
            "2\n",
            "4\n"
          ]
        }
      ]
    },
    {
      "cell_type": "code",
      "source": [
        "a=5\n",
        "print(\"The type of a\",type(a))\n",
        "b=40.5\n",
        "print(\"The type of b\",type(b))\n",
        "c=1+3j\n",
        "print(\"The type of c\",type(c))\n",
        "print(\"c is a complex number\",isinstance(1+3j,complex))"
      ],
      "metadata": {
        "colab": {
          "base_uri": "https://localhost:8080/"
        },
        "id": "GGTwinChzM5D",
        "outputId": "a8195dac-6225-49e3-ff7d-96c89ed65609"
      },
      "execution_count": 5,
      "outputs": [
        {
          "output_type": "stream",
          "name": "stdout",
          "text": [
            "The type of a <class 'int'>\n",
            "The type of b <class 'float'>\n",
            "The type of c <class 'complex'>\n",
            "c is a complex number True\n"
          ]
        }
      ]
    },
    {
      "cell_type": "code",
      "source": [
        "a=' hi guys'\n",
        "b=' hello world'\n",
        "print(a[0:3])\n",
        "print(b[0:5])\n",
        "print(a*2)\n",
        "print(a+b)\n"
      ],
      "metadata": {
        "colab": {
          "base_uri": "https://localhost:8080/"
        },
        "id": "QKEEJbOnzNHa",
        "outputId": "c16c4378-f294-4600-d568-2cafa1b66b7b"
      },
      "execution_count": 17,
      "outputs": [
        {
          "output_type": "stream",
          "name": "stdout",
          "text": [
            " hi\n",
            " hell\n",
            " hi guys hi guys\n",
            " hi guys hello world\n"
          ]
        }
      ]
    },
    {
      "cell_type": "code",
      "source": [
        "tup=(\"hi\",\"python\",2)\n",
        "print(type(tup))\n",
        "print(tup)\n",
        "print(tup[1:])\n",
        "print(tup+tup)\n",
        "print(tup*3)\n",
        "\n"
      ],
      "metadata": {
        "colab": {
          "base_uri": "https://localhost:8080/"
        },
        "id": "OGt3N6KX7yJL",
        "outputId": "9eb1bb38-5b6f-409f-9f5a-2b5cbbf34b8c"
      },
      "execution_count": 25,
      "outputs": [
        {
          "output_type": "stream",
          "name": "stdout",
          "text": [
            "<class 'tuple'>\n",
            "('hi', 'python', 2)\n",
            "('python', 2)\n",
            "('hi', 'python', 2, 'hi', 'python', 2)\n",
            "('hi', 'python', 2, 'hi', 'python', 2, 'hi', 'python', 2)\n"
          ]
        }
      ]
    },
    {
      "cell_type": "code",
      "source": [
        "rollno=[1,2,3,4,5]\n",
        "name=['a','b','c','d','e']\n",
        "data=list(zip(rollno,name))\n",
        "print(data)\n"
      ],
      "metadata": {
        "colab": {
          "base_uri": "https://localhost:8080/"
        },
        "id": "Q54NkylR9M9d",
        "outputId": "cc7e2430-a699-4254-b9b0-e656a1fa6d0a"
      },
      "execution_count": 29,
      "outputs": [
        {
          "output_type": "stream",
          "name": "stdout",
          "text": [
            "[(1, 'a'), (2, 'b'), (3, 'c'), (4, 'd'), (5, 'e')]\n"
          ]
        }
      ]
    },
    {
      "cell_type": "code",
      "source": [
        "d={101:'jimmy', 102:'alex', 103:'john', 104:'mike'}\n",
        "\n",
        "print(\"2nd name is: \"+d[104])\n",
        "d1=d.copy()\n",
        "print(d1)"
      ],
      "metadata": {
        "colab": {
          "base_uri": "https://localhost:8080/"
        },
        "id": "AuqOXiuALKeW",
        "outputId": "48ebc2e1-8133-4b22-e9df-2296901eb604"
      },
      "execution_count": 35,
      "outputs": [
        {
          "output_type": "stream",
          "name": "stdout",
          "text": [
            "2nd name is: mike\n",
            "{101: 'jimmy', 102: 'alex', 103: 'john', 104: 'mike'}\n"
          ]
        }
      ]
    },
    {
      "cell_type": "code",
      "source": [
        "print(type(true))\n",
        "print(type(false))\n",
        "print(true)"
      ],
      "metadata": {
        "colab": {
          "base_uri": "https://localhost:8080/",
          "height": 201
        },
        "id": "QWT4pLJNN_mH",
        "outputId": "0e21aabf-1a1a-40c4-8bbb-f56e73f32402"
      },
      "execution_count": 37,
      "outputs": [
        {
          "output_type": "error",
          "ename": "NameError",
          "evalue": "ignored",
          "traceback": [
            "\u001b[0;31m---------------------------------------------------------------------------\u001b[0m",
            "\u001b[0;31mNameError\u001b[0m                                 Traceback (most recent call last)",
            "\u001b[0;32m<ipython-input-37-e2fc22da5d5e>\u001b[0m in \u001b[0;36m<module>\u001b[0;34m()\u001b[0m\n\u001b[0;32m----> 1\u001b[0;31m \u001b[0mprint\u001b[0m\u001b[0;34m(\u001b[0m\u001b[0mtype\u001b[0m\u001b[0;34m(\u001b[0m\u001b[0mtrue\u001b[0m\u001b[0;34m)\u001b[0m\u001b[0;34m)\u001b[0m\u001b[0;34m\u001b[0m\u001b[0;34m\u001b[0m\u001b[0m\n\u001b[0m\u001b[1;32m      2\u001b[0m \u001b[0mprint\u001b[0m\u001b[0;34m(\u001b[0m\u001b[0mtype\u001b[0m\u001b[0;34m(\u001b[0m\u001b[0mfalse\u001b[0m\u001b[0;34m)\u001b[0m\u001b[0;34m)\u001b[0m\u001b[0;34m\u001b[0m\u001b[0;34m\u001b[0m\u001b[0m\n\u001b[1;32m      3\u001b[0m \u001b[0mprint\u001b[0m\u001b[0;34m(\u001b[0m\u001b[0mtrue\u001b[0m\u001b[0;34m)\u001b[0m\u001b[0;34m\u001b[0m\u001b[0;34m\u001b[0m\u001b[0m\n",
            "\u001b[0;31mNameError\u001b[0m: name 'true' is not defined"
          ]
        }
      ]
    },
    {
      "cell_type": "code",
      "source": [
        "set1=set()\n",
        "set2={'james',2,3,'python','james',2,3}\n",
        "print(set2)\n",
        "set2.add(10)\n",
        "print(set2)\n",
        "set2.remove(2)\n",
        "print(set2)\n",
        "set1.add(12)\n",
        "print(set1)"
      ],
      "metadata": {
        "colab": {
          "base_uri": "https://localhost:8080/"
        },
        "id": "2b9mJzkjOnYW",
        "outputId": "9351a53c-f5fa-4529-e49c-053d460451e5"
      },
      "execution_count": 39,
      "outputs": [
        {
          "output_type": "stream",
          "name": "stdout",
          "text": [
            "{2, 3, 'python', 'james'}\n",
            "{2, 3, 'python', 'james', 10}\n",
            "{3, 'python', 'james', 10}\n",
            "{12}\n"
          ]
        }
      ]
    }
  ]
}